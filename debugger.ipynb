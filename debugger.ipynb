{
 "cells": [
  {
   "attachments": {},
   "cell_type": "markdown",
   "metadata": {},
   "source": [
    "# **Debugging notebook**\n",
    "### AUTHOR: Martí Cortada Garcia\n",
    "---"
   ]
  },
  {
   "cell_type": "code",
   "execution_count": 1,
   "metadata": {},
   "outputs": [],
   "source": [
    "# Required packages\n",
    "from Bio import Phylo\n",
    "from io import StringIO"
   ]
  },
  {
   "attachments": {},
   "cell_type": "markdown",
   "metadata": {},
   "source": [
    "#### **Example:** Expectation-Maximization (EM) for a {5-node-3-leaves}-tree following a General Markov Model (GMM) \n",
    "We have decided to work on the following tree:"
   ]
  },
  {
   "cell_type": "code",
   "execution_count": 2,
   "metadata": {},
   "outputs": [
    {
     "data": {
      "image/png": "[encoded data removed]",
      "text/plain": [
       "<Figure size 640x480 with 1 Axes>"
      ]
     },
     "metadata": {},
     "output_type": "display_data"
    }
   ],
   "source": [
    "newick_tree = \"((3,4),2)\"\n",
    "tree = Phylo.read(StringIO(newick_tree), \"newick\")\n",
    "alignment = [\"ATCAAGTCA\", \"ATCAAGTCA\", \"ACCAAGTCT\", \"ATCAGGTGA\", \"ATGAAGTGA\"]\n",
    "\n",
    "# Change nodes names\n",
    "for idx, clade in enumerate(tree.get_nonterminals()):\n",
    "    clade.name = \"Node_\" + str(idx) + \"; \" + alignment[1] if idx > 0 else \"Root\" + \"; \" + alignment[0]\n",
    "\n",
    "# Change leaves names\n",
    "for idx, clade in enumerate(tree.get_terminals()):\n",
    "    clade.name = \"Leaf_\" + clade.name + \"; \" + alignment[int(clade.name)]\n",
    "\n",
    "# Draw tree\n",
    "Phylo.draw(tree)"
   ]
  },
  {
   "attachments": {},
   "cell_type": "markdown",
   "metadata": {},
   "source": [
    "Now, we must get all the required parameters for the model:"
   ]
  },
  {
   "cell_type": "code",
   "execution_count": 3,
   "metadata": {},
   "outputs": [],
   "source": [
    "nodes = [0,1,2,3,4]                            # set of nodes\n",
    "edges = [(0,1),(0,2),(1,3),(1,4)]              # set of edges\n",
    "symbols = {\"A\":0, \"C\":1, \"G\":2, \"T\":3}         # set of symbols\n",
    "alphabet = list(symbols.values())              # alphabet we will work with\n",
    "N_obs = 3                                      # observed number of states\n",
    "N_hid = 2                                      # hidden number of states\n",
    "\n",
    "eps = 10**-3                                   # stopping criterion (epsilon)"
   ]
  },
  {
   "cell_type": "code",
   "execution_count": 4,
   "metadata": {},
   "outputs": [
    {
     "name": "stdout",
     "output_type": "stream",
     "text": [
      "[SeqRecord(seq=Seq('ACCACCTCCTCATGAAAATCTGCATCGCTAAATTGTCATTCAGTCTTATTACTT...CGT'), id='1', name='1', description='1', dbxrefs=[]), SeqRecord(seq=Seq('GAGTACTGTTGAATGTTTTATTAATCTAGATGTCTGAGTTTGGAGCCAATTCGC...ATT'), id='2', name='2', description='2', dbxrefs=[]), SeqRecord(seq=Seq('GAGGTTGTAACAAATCGCACTCCTCGACCTAGGCTTATTAGATTACAAAAGGCA...AAT'), id='3', name='3', description='3', dbxrefs=[]), SeqRecord(seq=Seq('ACCGCTGACCGCGAGCACAAAGCCCCCCCTGCAGGGACGAGTCCAATCCGTCAC...GTG'), id='4', name='4', description='4', dbxrefs=[])]\n"
     ]
    }
   ],
   "source": [
    "import sys\n",
    "from collections import Counter\n",
    "from Bio import SeqIO\n",
    "\n",
    "sequences = [i for i in SeqIO.parse('./alignments_4_leaves/length1000_a105_b105/length1000_a105_b105_num0.fa', 'fasta')]\n",
    "print(sequences)"
   ]
  },
  {
   "cell_type": "code",
   "execution_count": 5,
   "metadata": {},
   "outputs": [
    {
     "name": "stdout",
     "output_type": "stream",
     "text": [
      "C : 0.268\n",
      "T : 0.268\n",
      "G : 0.26\n",
      "A : 0.204\n"
     ]
    },
    {
     "data": {
      "text/plain": [
       "[None, None, None, None]"
      ]
     },
     "execution_count": 5,
     "metadata": {},
     "output_type": "execute_result"
    }
   ],
   "source": [
    "seq = sequences[0].seq\n",
    "v = []\n",
    "str = ''\n",
    "for k in range (len(seq)):\n",
    "    str = seq[k]\n",
    "    v.append(str)\n",
    "counter = Counter(v) # Count ocurrences\n",
    "freqs = dict(map(lambda x: (x[0], round(x[1]/1000, 5)), counter.items())) # From ocurrences to frequences\n",
    "sorted_freqs = dict(sorted(freqs.items(), key=lambda x:x[1], reverse=True)) # Sort in descending order\n",
    "[print(key,':',value) for key, value in sorted_freqs.items()]"
   ]
  },
  {
   "cell_type": "code",
   "execution_count": 25,
   "metadata": {},
   "outputs": [
    {
     "name": "stdout",
     "output_type": "stream",
     "text": [
      "TGATCAGCAAGCAAGGTGTCAAACCCCATCCATCGCACCCTCGCTTTGCAAAAATCCGAAACACGCGGGAGGACGCGTGCCATTGGATAACGAACAAAGTGCGACACTTCGTCCGGGAACCGGATAACGGGACAGGAGGAGGTACAGGTAACCGGTTTCTTTGAGATTACCTGTCGTTTGCACTCGATATCTGCTTTACTATAAACGTTTGATAGCCGGCGCGTAACGGGAGGTTTTCAAGTCGTGAGGATGGCCAACGTATAGTCAAACTCCTAGCTGGGCAGGGCCTGGAAGAACGAGGAAACTGGTCACCACTCTCGCGATGGCTTTGTACATTAGTCATTCATACTACCTCATTGGGAAAGTCATGGATCGCTACCCAGCCTAGGCGAGGACCACACGTAATGTTAAGCGTTTGGGGGTATTTCTTTACAAACCGTCTGTCAGTTCCAGTATAAACCACGCCCTTTATTTTCCGACAAGCACAGTATAGGTTCCGACGTAGTAGATGTAATCGACCTTACTGAGCGGGTGGGAGCAAACTGCGTGGTTCGCATTATTGGCGGGCTATTATAGATCTTTAAGCCGAAGCGGTAAACGGAGTAATCGGCAGTCCCTTGGAACCTGAGAGAATTCTTTAATTGCTCAAGGCGTCGAGCCCGGTGGCTTCGGACCTGTGACCGTAGAAGATAGAAAAGGTTCCTTGCCTGTATTAAGTACGCCGCTTCGTCCTCCTGCCTCGCCCGCTGGTCCTTGGTTGTGCTCCCGGATTCCCCTCTAATTCGATTTTGGTGGGCTTACCTAAGTACAAGTTTGTCCACGTCCTGGATTGTGCATCGATGTGTCAAGCACTATCTCAATAGACATCCATACGGCTATATTTCTAATGTTGCTACATGGCGGCCTCTTGCGGCTGTCGAAACACATGGCCTATAGTTTAGATTGGTACGGTCCGGCGTTGACAACACAGGACGATATTACGAGGCGGAATGAGAGCACG\n"
     ]
    }
   ],
   "source": [
    "import numpy as np\n",
    "\n",
    "def generate_alignment(length, distribution):\n",
    "    \"\"\"\n",
    "    Generates an alignment of length `length` using a given `distribution`.\n",
    "    \"\"\"\n",
    "    seq = ''\n",
    "    for i in range(length):\n",
    "        # generate a random sample from the multinomial distribution\n",
    "        nucleotide = np.random.choice(['A', 'C', 'G', 'T'], p=distribution)\n",
    "        seq += nucleotide\n",
    "    return seq\n",
    "\n",
    "distribution = [0.25, 0.25, 0.25, 0.25] # equal distribution\n",
    "alignment = generate_alignment(1000, distribution)\n",
    "print(alignment)"
   ]
  },
  {
   "cell_type": "code",
   "execution_count": 7,
   "metadata": {},
   "outputs": [
    {
     "name": "stdout",
     "output_type": "stream",
     "text": [
      "T : 0.28\n",
      "C : 0.244\n",
      "G : 0.24\n",
      "A : 0.236\n"
     ]
    },
    {
     "data": {
      "text/plain": [
       "[None, None, None, None]"
      ]
     },
     "execution_count": 7,
     "metadata": {},
     "output_type": "execute_result"
    }
   ],
   "source": [
    "counter = Counter(alignment) # Count ocurrences\n",
    "freqs = dict(map(lambda x: (x[0], round(x[1]/1000, 5)), counter.items())) # From ocurrences to frequences\n",
    "sorted_freqs = dict(sorted(freqs.items(), key=lambda x:x[1], reverse=True)) # Sort in descending order\n",
    "[print(key,':',value) for key, value in sorted_freqs.items()]"
   ]
  },
  {
   "cell_type": "code",
   "execution_count": 8,
   "metadata": {},
   "outputs": [
    {
     "name": "stdout",
     "output_type": "stream",
     "text": [
      "[[0.27272727 0.23320158 0.2687747  0.22529644]\n",
      " [0.25       0.22727273 0.24090909 0.28181818]\n",
      " [0.2779661  0.27118644 0.22372881 0.22711864]\n",
      " [0.28138528 0.22510823 0.28571429 0.20779221]]\n"
     ]
    }
   ],
   "source": [
    "# Define the nucleotides\n",
    "nucleotides = ['A', 'C', 'G', 'T']\n",
    "\n",
    "# Define the transition matrix\n",
    "transition_matrix = np.zeros((4, 4))\n",
    "\n",
    "# Define the two alignments\n",
    "alignment1 = generate_alignment(1000, distribution)\n",
    "alignment2 = generate_alignment(1000, distribution)\n",
    "\n",
    "# Iterate over the alignments and count the transitions\n",
    "for i in range(len(alignment1)-1):\n",
    "    nucleotide1 = alignment1[i]\n",
    "    nucleotide2 = alignment2[i+1]\n",
    "    transition_matrix[nucleotides.index(nucleotide1)][nucleotides.index(nucleotide2)] += 1\n",
    "\n",
    "# Normalize the transition matrix\n",
    "transition_matrix /= np.sum(transition_matrix, axis=1, keepdims=True)\n",
    "\n",
    "# Print the transition matrix\n",
    "print(transition_matrix)"
   ]
  },
  {
   "cell_type": "code",
   "execution_count": 9,
   "metadata": {},
   "outputs": [
    {
     "name": "stdout",
     "output_type": "stream",
     "text": [
      "[0.27051966 0.23919224 0.25478172 0.23550637]\n"
     ]
    }
   ],
   "source": [
    "def multiply_distribution_with_matrix(distribution, matrix):\n",
    "    \"\"\"\n",
    "    Multiplies a distribution of nucleotides with a transition matrix.\n",
    "\n",
    "    Args:\n",
    "        distribution (ndarray): A 1D array of length 4 representing a distribution of nucleotides.\n",
    "        matrix (ndarray): A 2D array of shape (4, 4) representing a transition matrix.\n",
    "\n",
    "    Returns:\n",
    "        ndarray: A 1D array of length 4 representing the resulting distribution of nucleotides.\n",
    "    \"\"\"\n",
    "    return np.dot(distribution, matrix)\n",
    "\n",
    "M = np.array(transition_matrix)\n",
    "res = multiply_distribution_with_matrix(distribution, M)\n",
    "print(res)"
   ]
  },
  {
   "attachments": {},
   "cell_type": "markdown",
   "metadata": {},
   "source": [
    "We define the transition probability matrices to generate the alignments:"
   ]
  },
  {
   "cell_type": "code",
   "execution_count": 10,
   "metadata": {},
   "outputs": [
    {
     "name": "stdout",
     "output_type": "stream",
     "text": [
      "M01 = \n",
      "[[0.75686669 0.09323911 0.1087557  0.0411385 ]\n",
      " [0.10082056 0.66949911 0.13609911 0.09358122]\n",
      " [0.063027   0.09421526 0.75832669 0.08443105]\n",
      " [0.0305423  0.04262855 0.0635348  0.86329434]]\n",
      "M02 = \n",
      "[[0.77242316 0.0870608  0.10973676 0.03077929]\n",
      " [0.11997433 0.72140754 0.03736257 0.12125555]\n",
      " [0.08421562 0.14279421 0.6249654  0.14802477]\n",
      " [0.04970847 0.05651992 0.10572335 0.78804827]]\n",
      "M03 = \n",
      "[[0.72104538 0.12703312 0.03512575 0.11679574]\n",
      " [0.03561694 0.74924193 0.13317157 0.08196956]\n",
      " [0.12739085 0.13164854 0.66108148 0.07987914]\n",
      " [0.13389354 0.05024203 0.06667242 0.74919201]]\n",
      "M14 = \n",
      "[[0.66698413 0.12244932 0.12491119 0.08565536]\n",
      " [0.09925091 0.66142233 0.14279239 0.09653437]\n",
      " [0.11136302 0.07189225 0.75012265 0.06662207]\n",
      " [0.04546718 0.08272644 0.09537145 0.77643493]]\n",
      "M15 = \n",
      "[[0.73228947 0.04667774 0.14366504 0.07736775]\n",
      " [0.09852755 0.70452668 0.13149524 0.06545053]\n",
      " [0.09326761 0.14333763 0.72865567 0.0347391 ]\n",
      " [0.14753515 0.05221436 0.13734184 0.66290866]]\n"
     ]
    }
   ],
   "source": [
    "import random\n",
    "\n",
    "# Create transition probability matrices with suitable parameters  \n",
    "def create_transition_probability_matrix(M): \n",
    "    for j in [0,1,2,3]:\n",
    "        for i in [0,1,2,3]:\n",
    "            if (i!=j): \n",
    "                M[(i,j)] = random.uniform(0.03,0.15)\n",
    "    M[(0,0)] = 1 - M[(0,1)] - M[(0,2)] - M[(0,3)] \n",
    "    M[(1,1)] = 1 - M[(1,0)] - M[(1,2)] - M[(1,3)] \n",
    "    M[(2,2)] = 1 - M[(2,0)] - M[(2,1)] - M[(2,3)] \n",
    "    M[(3,3)] = 1 - M[(3,0)] - M[(3,1)] - M[(3,2)] \n",
    "    return(M)\n",
    "\n",
    "M01 = create_transition_probability_matrix(np.zeros((4,4)))\n",
    "M02 = create_transition_probability_matrix(np.zeros((4,4)))\n",
    "M03 = create_transition_probability_matrix(np.zeros((4,4)))\n",
    "M14 = create_transition_probability_matrix(np.zeros((4,4)))\n",
    "M15 = create_transition_probability_matrix(np.zeros((4,4)))\n",
    "MATRICES = [M01, M02, M03, M14, M15]\n",
    "matrices_name = ['M01 = ', 'M02 = ', 'M03 = ', 'M14 = ', 'M15 = ']\n",
    "for i in range(len(MATRICES)):\n",
    "    print(matrices_name[i])\n",
    "    print(MATRICES[i])\n"
   ]
  },
  {
   "cell_type": "code",
   "execution_count": 11,
   "metadata": {},
   "outputs": [],
   "source": [
    "distribution = [0.25, 0.25, 0.25, 0.25] # equal distribution\n",
    "alignment_root = generate_alignment(1000, distribution)\n",
    "\n",
    "distribution1 = multiply_distribution_with_matrix(distribution, M01)\n",
    "alignment1 = generate_alignment(1000, distribution1)\n",
    "\n",
    "distribution2 = multiply_distribution_with_matrix(distribution, M02)\n",
    "alignment2 = generate_alignment(1000, distribution2)\n",
    "\n",
    "distribution3 = multiply_distribution_with_matrix(distribution, M03)\n",
    "alignment3 = generate_alignment(1000, distribution3)\n",
    "\n",
    "distribution4 = multiply_distribution_with_matrix(distribution1, M14)\n",
    "alignment4 = generate_alignment(1000, distribution4)\n",
    "\n",
    "distribution5 = multiply_distribution_with_matrix(distribution1, M15)\n",
    "alignment5 = generate_alignment(1000, distribution5)"
   ]
  },
  {
   "cell_type": "code",
   "execution_count": 8,
   "metadata": {},
   "outputs": [
    {
     "data": {
      "image/png": "[encoded data removed]",
      "text/plain": [
       "<Figure size 640x480 with 1 Axes>"
      ]
     },
     "metadata": {},
     "output_type": "display_data"
    }
   ],
   "source": [
    "newick_tree = \"(2,3,(4,5))\"\n",
    "tree = Phylo.read(StringIO(newick_tree), \"newick\")\n",
    "\n",
    "# Change nodes names\n",
    "for idx, clade in enumerate(tree.get_nonterminals()):\n",
    "    clade.name = \"Node_\" + str(idx) if idx > 0 else \"Root\" \n",
    "\n",
    "# Change leaves names\n",
    "for idx, clade in enumerate(tree.get_terminals()):\n",
    "    clade.name = \"Leaf_\" + clade.name \n",
    "\n",
    "Phylo.draw(tree)\n",
    "\n",
    "net = Phylo.to_networkx(tree) # to graph"
   ]
  },
  {
   "cell_type": "code",
   "execution_count": 164,
   "metadata": {},
   "outputs": [
    {
     "name": "stdout",
     "output_type": "stream",
     "text": [
      "[0.25 0.25 0.25 0.25]\n",
      "------------------------------------------------------------------------------------------\n",
      "Comprovació 1:\n",
      "res 0.3663852847951308\n",
      "------------------------------------------------------------------------------------------\n",
      "Comprovació 2\n",
      "DetM1 =  0.2656247910885402\n",
      "Comprovació 1:\n",
      "res 0.36461145003110224\n",
      "------------------------------------------------------------------------------------------\n",
      "Comprovació 2\n",
      "DetM1 =  0.24865230048115414\n",
      "Comprovació 1:\n",
      "res 0.3643786837370218\n",
      "------------------------------------------------------------------------------------------\n",
      "Comprovació 2\n",
      "DetM1 =  0.32282966037711663\n",
      "Comprovació 1:\n",
      "res 0.3677901512681817\n",
      "------------------------------------------------------------------------------------------\n",
      "Comprovació 2\n",
      "DetM1 =  0.2590804272412476\n",
      "Comprovació 1:\n",
      "res 0.3579440360792422\n",
      "------------------------------------------------------------------------------------------\n",
      "Comprovació 2\n",
      "DetM1 =  0.321956025952612\n",
      "Comprovació 1:\n",
      "res 0.3672446822031175\n",
      "------------------------------------------------------------------------------------------\n",
      "Comprovació 2\n",
      "DetM1 =  0.2827611699566268\n",
      "Comprovació 1:\n",
      "res 0.3610737281385618\n",
      "------------------------------------------------------------------------------------------\n",
      "Comprovació 2\n",
      "DetM1 =  0.26577784434223073\n",
      "Comprovació 1:\n",
      "res 0.366468734950104\n",
      "------------------------------------------------------------------------------------------\n",
      "Comprovació 2\n",
      "DetM1 =  0.27718517957192684\n",
      "Comprovació 1:\n",
      "res 0.36472673446406234\n",
      "------------------------------------------------------------------------------------------\n",
      "Comprovació 2\n",
      "DetM1 =  0.3052241229767959\n",
      "Comprovació 1:\n",
      "res 0.3497577313387594\n",
      "------------------------------------------------------------------------------------------\n",
      "Comprovació 2\n",
      "DetM1 =  0.24453335169883123\n",
      "Comprovació 1:\n",
      "res 0.3664266006130811\n",
      "------------------------------------------------------------------------------------------\n",
      "Comprovació 2\n",
      "DetM1 =  0.28163884974181275\n",
      "Comprovació 1:\n",
      "res 0.3660562609182181\n",
      "------------------------------------------------------------------------------------------\n",
      "Comprovació 2\n",
      "DetM1 =  0.2731759157832407\n",
      "Comprovació 1:\n",
      "res 0.36624753944571187\n",
      "------------------------------------------------------------------------------------------\n",
      "Comprovació 2\n",
      "DetM1 =  0.28560685564486116\n",
      "Comprovació 1:\n",
      "res 0.3650430198665885\n",
      "------------------------------------------------------------------------------------------\n",
      "Comprovació 2\n",
      "DetM1 =  0.3657131014542377\n",
      "------------------------------------------------------------------------------------------\n",
      "Creem M2\n",
      "M2 =  [[0.71509441 0.07194663 0.09289334 0.12006562]\n",
      " [0.08035799 0.75013105 0.08502898 0.08448199]\n",
      " [0.08035799 0.08174128 0.75341875 0.08448199]\n",
      " [0.08035799 0.08174128 0.0830987  0.75480204]]\n",
      "------------------------------------------------------------------------------------------\n",
      "Obtenim M\n",
      "M =  [[0.58582595 0.07822988 0.17245441 0.16348976]\n",
      " [0.10715696 0.60367862 0.09668525 0.19247918]\n",
      " [0.17269131 0.12190447 0.61464925 0.09075498]\n",
      " [0.14199897 0.08641956 0.16531478 0.6062667 ]]\n",
      "------------------------------------------------------------------------------------------\n",
      "Comprovem que d1·d2=detM\n",
      "d1·d2 =  0.10400301733208021\n",
      "detM =  0.10400301733208019\n"
     ]
    },
    {
     "ename": "ValueError",
     "evalue": "matmul: Input operand 1 does not have enough dimensions (has 0, gufunc core with signature (n?,k),(k,m?)->(n?,m?) requires 1)",
     "output_type": "error",
     "traceback": [
      "\u001b[0;31m---------------------------------------------------------------------------\u001b[0m",
      "\u001b[0;31mValueError\u001b[0m                                Traceback (most recent call last)",
      "Cell \u001b[0;32mIn[164], line 106\u001b[0m\n\u001b[1;32m    104\u001b[0m new_edge \u001b[39m=\u001b[39m Edge(edge, generate_random_matrix(node_distribution[edge[\u001b[39m0\u001b[39m]\u001b[39m.\u001b[39mname]))\n\u001b[1;32m    105\u001b[0m edges\u001b[39m.\u001b[39mappend(new_edge)\n\u001b[0;32m--> 106\u001b[0m node_distribution[edge[\u001b[39m1\u001b[39m]\u001b[39m.\u001b[39mname] \u001b[39m=\u001b[39m np\u001b[39m.\u001b[39;49mmatmul(node_distribution[edge[\u001b[39m0\u001b[39;49m]\u001b[39m.\u001b[39;49mname],new_edge\u001b[39m.\u001b[39;49mtransition_matrix)\n\u001b[1;32m    107\u001b[0m \u001b[39mprint\u001b[39m(new_edge\u001b[39m.\u001b[39mtransition_matrix)\n\u001b[1;32m    108\u001b[0m \u001b[39massert\u001b[39;00m(np\u001b[39m.\u001b[39msum(new_edge\u001b[39m.\u001b[39mtransition_matrix)\u001b[39m==\u001b[39m\u001b[39m1\u001b[39m)\n",
      "\u001b[0;31mValueError\u001b[0m: matmul: Input operand 1 does not have enough dimensions (has 0, gufunc core with signature (n?,k),(k,m?)->(n?,m?) requires 1)"
     ]
    }
   ],
   "source": [
    "from sympy import symbols, Eq, solve\n",
    "from scipy.linalg import expm\n",
    "new_distribution = [0.22, 0.24, 0.26, 0.28]\n",
    "\n",
    "class Edge:\n",
    "    def __init__(self, edge, transition_matrix=None):\n",
    "        self.edge = edge\n",
    "        self.transition_matrix = transition_matrix\n",
    "\n",
    "node_distribution = dict()\n",
    "node_distribution[\"Root\"] = np.array([0.25]*4)\n",
    "print(node_distribution[\"Root\"])\n",
    "l = 1\n",
    "\n",
    "# Return a matrix from a dicrionary\n",
    "def get_matrix_from_dict(d):\n",
    "    Q2 = np.zeros((4,4))\n",
    "    Q2[0,0] = np.double(d[A])\n",
    "    Q2[0,1] = np.double(d[B])\n",
    "    Q2[0,2] = np.double(d[C])\n",
    "    Q2[0,3] = np.double(d[D])\n",
    "    Q2[1,0] = np.double(d[E])\n",
    "    Q2[1,1] = np.double(d[F])\n",
    "    Q2[1,2] = np.double(d[G])\n",
    "    Q2[1,3] = np.double(d[H])\n",
    "    Q2[2,0] = np.double(d[I])\n",
    "    Q2[2,1] = np.double(d[J])\n",
    "    Q2[2,2] = np.double(d[K])\n",
    "    Q2[2,3] = np.double(d[L])\n",
    "    Q2[3,0] = np.double(d[M])\n",
    "    Q2[3,1] = np.double(d[N])\n",
    "    Q2[3,2] = np.double(d[O])\n",
    "    Q2[3,3] = np.double(d[P])\n",
    "    return Q2\n",
    "\n",
    "def get_M2():\n",
    "    A,B,C,D,E,F,G,H,I,J,K,L,M,N,O,P = symbols('A B C D E F G H I J K L M N O P')\n",
    "    eq1 = Eq(A+B+C+D,0)\n",
    "    eq2 = Eq(E+F+G+H,0)\n",
    "    eq3 = Eq(I+J+K+L,0)\n",
    "    eq4 = Eq(M+N+O+P,0)\n",
    "    eq5 = Eq(A*new_distribution[0] + E*new_distribution[1] + I*new_distribution[2] + M*new_distribution[3],0)\n",
    "    eq6 = Eq(B*new_distribution[0] + F*new_distribution[1] + J*new_distribution[2] + N*new_distribution[3],0)\n",
    "    eq7 = Eq(C*new_distribution[0] + G*new_distribution[1] + K*new_distribution[2] + O*new_distribution[3],0)\n",
    "    eq8 = Eq(D*new_distribution[0] + H*new_distribution[1] + L*new_distribution[2] + P*new_distribution[3],0)\n",
    "    eq_traça = Eq(A+F+K+P,np.log(0.28438417141337796))\n",
    "    eq9 = Eq(M,0.1)\n",
    "    eq10 = Eq(N,0.1)\n",
    "    eq11 = Eq(O,0.1)\n",
    "    eq12 = Eq(I,0.1)\n",
    "    eq13 = Eq(J,0.1)\n",
    "    eq14 = Eq(L,0.1)\n",
    "    eq15 = Eq(E,0.1)\n",
    "    eq16 = Eq(H,0.1)\n",
    "    sol = solve((eq1,eq2,eq3,eq4,eq5,eq6,eq7,eq8,eq_traça,eq9,eq10,eq11,eq12,eq13,eq14,eq15,eq16),(A,B,C,D,E,F,G,H,I,J,K,L,M,N,O,P))\n",
    "    Q2 = get_matrix_from_dict(sol)\n",
    "    M2 = expm(Q2)\n",
    "    return M2\n",
    "        \n",
    "def generate_random_matrix(distribution):\n",
    "    # Comentar...\n",
    "    print('---'*30)\n",
    "    res = 1\n",
    "    while res >= 1:\n",
    "        # Generant...\n",
    "        M1 = np.zeros((4,4))\n",
    "        i=0\n",
    "        while i<4:\n",
    "            R = np.random.dirichlet([1,1,1,1])\n",
    "            if R[i] > 0.7 and R[i] < 0.8:\n",
    "                M1[i,:] = R \n",
    "                i = i + 1\n",
    "\n",
    "        new_distribution = np.matmul(distribution,M1)\n",
    "        print('Comprovació 1:')\n",
    "        D = np.diag(distribution)\n",
    "        D_ = np.diag(new_distribution)\n",
    "        res = np.exp(-l)*np.sqrt(np.linalg.det(D_))/np.sqrt(np.linalg.det(D))\n",
    "        print(\"res\", res)\n",
    "        print('---'*30)\n",
    "        print(\"Comprovació 2\")\n",
    "        detM1 = np.linalg.det(M1)\n",
    "        print(\"DetM1 = \", detM1)\n",
    "        if detM1 > np.exp(-l)*np.sqrt(np.linalg.det(D_))/np.sqrt(np.linalg.det(D)):\n",
    "            pass\n",
    "        else:\n",
    "            res = 1\n",
    "    print('---'*30)\n",
    "    print(\"Creem M2\")\n",
    "    M2 = get_M2()\n",
    "    print(\"M2 = \", M2)\n",
    "    print('---'*30)\n",
    "    print(\"Obtenim M\")\n",
    "    M = np.matmul(M1,M2)\n",
    "    print(\"M = \", M)\n",
    "    print('---'*30)\n",
    "    print(\"Comprovem que d1·d2=detM\")\n",
    "    print(\"d1·d2 = \", np.linalg.det(M1)*np.linalg.det(M2))\n",
    "    print(\"detM = \", np.linalg.det(M))\n",
    "\n",
    "edges = []\n",
    "root_ditribution = np.array([0.25]*4)\n",
    "for edge in net.edges():\n",
    "    new_edge = Edge(edge, generate_random_matrix(node_distribution[edge[0].name]))\n",
    "    edges.append(new_edge)\n",
    "    node_distribution[edge[1].name] = np.matmul(node_distribution[edge[0].name],new_edge.transition_matrix)\n",
    "    print(new_edge.transition_matrix)\n",
    "    assert(np.sum(new_edge.transition_matrix)==1)\n",
    "    break\n"
   ]
  },
  {
   "cell_type": "code",
   "execution_count": null,
   "metadata": {},
   "outputs": [],
   "source": []
  }
 ],
 "metadata": {
  "kernelspec": {
   "display_name": "Python 3 (ipykernel)",
   "language": "python",
   "name": "python3"
  },
  "language_info": {
   "codemirror_mode": {
    "name": "ipython",
    "version": 3
   },
   "file_extension": ".py",
   "mimetype": "text/x-python",
   "name": "python",
   "nbconvert_exporter": "python",
   "pygments_lexer": "ipython3",
   "version": "3.9.10"
  },
  "orig_nbformat": 4
 },
 "nbformat": 4,
 "nbformat_minor": 2
}
